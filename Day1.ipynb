{
 "cells": [
  {
   "cell_type": "markdown",
   "id": "02044d6d-c005-42f0-ae84-2b93dbc48421",
   "metadata": {},
   "source": [
    "#Print function - you canuse both single and double quotes for string value, but double quotes is better\n"
   ]
  },
  {
   "cell_type": "code",
   "execution_count": 2,
   "id": "ddebe249-54e1-4765-a49d-d4072549293b",
   "metadata": {
    "tags": []
   },
   "outputs": [
    {
     "name": "stdout",
     "output_type": "stream",
     "text": [
      "Hello Earth!, It's my world\n"
     ]
    }
   ],
   "source": [
    "print(\"Hello Earth!, It's my world\")"
   ]
  },
  {
   "cell_type": "code",
   "execution_count": 4,
   "id": "a663d449-dc60-40ec-8197-fd1875b6ccbc",
   "metadata": {
    "tags": []
   },
   "outputs": [
    {
     "name": "stdout",
     "output_type": "stream",
     "text": [
      "Help on built-in function print in module builtins:\n",
      "\n",
      "print(*args, sep=' ', end='\\n', file=None, flush=False)\n",
      "    Prints the values to a stream, or to sys.stdout by default.\n",
      "    \n",
      "    sep\n",
      "      string inserted between values, default a space.\n",
      "    end\n",
      "      string appended after the last value, default a newline.\n",
      "    file\n",
      "      a file-like object (stream); defaults to the current sys.stdout.\n",
      "    flush\n",
      "      whether to forcibly flush the stream.\n",
      "\n"
     ]
    }
   ],
   "source": [
    "help(print)\n"
   ]
  },
  {
   "cell_type": "code",
   "execution_count": 5,
   "id": "123cfe00-cb5c-4d5e-9b3f-9a81605b1c48",
   "metadata": {
    "tags": []
   },
   "outputs": [
    {
     "name": "stdout",
     "output_type": "stream",
     "text": [
      "ab\n"
     ]
    }
   ],
   "source": [
    "print(\"a\"+\"b\")\n"
   ]
  },
  {
   "cell_type": "code",
   "execution_count": 7,
   "id": "89f645fe-a2e1-4dea-9441-18398464d4a3",
   "metadata": {
    "tags": []
   },
   "outputs": [
    {
     "name": "stdout",
     "output_type": "stream",
     "text": [
      "a B\n"
     ]
    }
   ],
   "source": [
    "print(\"a\",\"B\");\n",
    "      "
   ]
  },
  {
   "cell_type": "code",
   "execution_count": 85,
   "id": "c30c6e2f-3201-4e44-a5f5-4e1af23d42e9",
   "metadata": {
    "tags": []
   },
   "outputs": [
    {
     "name": "stdin",
     "output_type": "stream",
     "text": [
      "Enter your Name :  Raji\n",
      "enter your age 51\n"
     ]
    },
    {
     "name": "stdout",
     "output_type": "stream",
     "text": [
      "Hello Raji! you are having 51 year's of experience in this world\n"
     ]
    }
   ],
   "source": [
    "\n",
    "yourname=input(\"Enter your Name : \")\n",
    "age=input(\"enter your age\")\n",
    "print(f\"Hello {yourname}! you have {age} year\\'s of experience in this world.\")\n",
    "\n"
   ]
  },
  {
   "cell_type": "code",
   "execution_count": 43,
   "id": "99e864cf-5c8e-4af3-85da-a103605d02d3",
   "metadata": {
    "tags": []
   },
   "outputs": [
    {
     "name": "stdin",
     "output_type": "stream",
     "text": [
      "enter your first number.. 7\n",
      "enter your second number.. 8\n",
      "enter youe operator [+,-,*,/].. /\n"
     ]
    },
    {
     "name": "stdout",
     "output_type": "stream",
     "text": [
      "0.875\n"
     ]
    }
   ],
   "source": [
    "a=input(\"enter your first number..\")\n",
    "b=input(\"enter your second number..\")\n",
    "operator=input(\"enter your operator [+,-,*,/]..\")\n",
    "n1=float(a)\n",
    "n2=float(b)\n",
    "if(operator==\"+\"):\n",
    "    print(n1+n2)\n",
    "if(operator==\"-\"):\n",
    "    print(n1-n2)\n",
    "if(operator==\"*\"):\n",
    "    print(n1*n2)\n",
    "if(operator==\"/\"):\n",
    "    print(n1/n2)\n",
    "               "
   ]
  },
  {
   "cell_type": "code",
   "execution_count": 44,
   "id": "030c65ec-d147-414d-a6d7-977879ffc4ee",
   "metadata": {
    "tags": []
   },
   "outputs": [
    {
     "name": "stdout",
     "output_type": "stream",
     "text": [
      "Hello\n"
     ]
    }
   ],
   "source": [
    "print(\"Hello\")\n"
   ]
  },
  {
   "cell_type": "code",
   "execution_count": 63,
   "id": "be23df97-8c57-4a2c-bdbf-8ca870a6a34c",
   "metadata": {
    "tags": []
   },
   "outputs": [
    {
     "name": "stdin",
     "output_type": "stream",
     "text": [
      "Enter any 4 digit Number 9473\n"
     ]
    },
    {
     "name": "stdout",
     "output_type": "stream",
     "text": [
      "Reversed form of the given number is.. 3749\n"
     ]
    }
   ],
   "source": [
    "num=int(input(\"Enter any 4 digit Number\"))\n",
    "digit4=num%10\n",
    "num=num//10\n",
    "digit3=num%10\n",
    "num=num//10\n",
    "digit2=num%10\n",
    "digit1=num//10\n",
    "print(f\"Reversed form of the given number is.. {digit4}{digit3}{digit2}{digit1}\")\n",
    "\n"
   ]
  },
  {
   "cell_type": "code",
   "execution_count": 67,
   "id": "ac7ed644-e4e2-4215-a0bd-acff83591b46",
   "metadata": {
    "tags": []
   },
   "outputs": [
    {
     "name": "stdin",
     "output_type": "stream",
     "text": [
      "Enter any 3 digit Number 731\n"
     ]
    },
    {
     "name": "stdout",
     "output_type": "stream",
     "text": [
      "Sum of the digits of the given number is.. 11\n"
     ]
    }
   ],
   "source": [
    "num=int(input(\"Enter any 3 digit Number\"))\n",
    "digit3=num%10\n",
    "num=num//10\n",
    "digit2=num//10\n",
    "digit1=num%10\n",
    "sum=digit1+digit2+digit3\n",
    "print(f\"Sum of the digits of the given number is.. {sum}\")\n"
   ]
  },
  {
   "cell_type": "code",
   "execution_count": 77,
   "id": "e76c9122-a961-4f33-aac6-8251817e236f",
   "metadata": {
    "tags": []
   },
   "outputs": [
    {
     "name": "stdin",
     "output_type": "stream",
     "text": [
      "Enter the value to convert into Miles.. 10\n",
      "Enter the value to convert into Kilometers.. 16\n"
     ]
    },
    {
     "name": "stdout",
     "output_type": "stream",
     "text": [
      "10 Kilometer is equal to 16.09344 miles\n",
      "16 miles is equal to 9.941939075797343 kilometers\n"
     ]
    }
   ],
   "source": [
    "disianceinmiles=input(\"Enter the value to convert into Miles..\")\n",
    "disianceinkilom=input(\"Enter the value to convert into Kilometers..\")\n",
    "print(f\"{disianceinmiles} Kilometer is equal to {float(disianceinmiles)*1.609344} miles\")\n",
    "print(f\"{disianceinkilom} miles is equal to {float(disianceinkilom)/1.609344} kilometers\")\n"
   ]
  },
  {
   "cell_type": "code",
   "execution_count": 80,
   "id": "cb3b83f7-e360-4994-885c-813912773ddb",
   "metadata": {
    "tags": []
   },
   "outputs": [
    {
     "name": "stdin",
     "output_type": "stream",
     "text": [
      "Enter the temp in celcius.. 23\n"
     ]
    },
    {
     "name": "stdout",
     "output_type": "stream",
     "text": [
      "23 Celcius is equal to 73.4 in Farenheight\n"
     ]
    }
   ],
   "source": [
    "tempincelcius=input(\"Enter the temp in celcius..\")\n",
    "print(f\"{tempincelcius} Celcius is equal to {((float(tempincelcius)*(9/5))+32)} in Farenheight\")"
   ]
  },
  {
   "cell_type": "code",
   "execution_count": 88,
   "id": "3ead261a-168b-40ac-9ed4-e7c063a6ab24",
   "metadata": {
    "tags": []
   },
   "outputs": [
    {
     "name": "stdin",
     "output_type": "stream",
     "text": [
      "enter the length of the rectangle :  2\n",
      "enter the width of the rectangle :  5\n"
     ]
    },
    {
     "name": "stdout",
     "output_type": "stream",
     "text": [
      "Area of the given rectangle size2X5 is 10.0\n"
     ]
    }
   ],
   "source": [
    "length=input(\"enter the length of the rectangle : \")\n",
    "width=input(\"enter the width of the rectangle : \")\n",
    "print(f\"Area of the given rectangle size{length}X{width} is {float(length)*float(width)}\")"
   ]
  },
  {
   "cell_type": "raw",
   "id": "edc55ed7-96e1-453c-8f88-fa9453016ae3",
   "metadata": {},
   "source": [
    "# this is from github"
   ]
  }
 ],
 "metadata": {
  "kernelspec": {
   "display_name": "Python 3 (ipykernel)",
   "language": "python",
   "name": "python3"
  },
  "language_info": {
   "codemirror_mode": {
    "name": "ipython",
    "version": 3
   },
   "file_extension": ".py",
   "mimetype": "text/x-python",
   "name": "python",
   "nbconvert_exporter": "python",
   "pygments_lexer": "ipython3",
   "version": "3.11.5"
  }
 },
 "nbformat": 4,
 "nbformat_minor": 5
}
